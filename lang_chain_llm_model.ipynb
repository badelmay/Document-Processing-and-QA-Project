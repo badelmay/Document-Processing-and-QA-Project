{
 "cells": [
  {
   "cell_type": "code",
   "execution_count": 2,
   "id": "34af1296",
   "metadata": {},
   "outputs": [
    {
     "name": "stdout",
     "output_type": "stream",
     "text": [
      "Requirement already satisfied: transformers in c:\\users\\badel\\appdata\\local\\programs\\python\\python312\\lib\\site-packages (4.42.3)\n",
      "Requirement already satisfied: sentence-transformers in c:\\users\\badel\\appdata\\local\\programs\\python\\python312\\lib\\site-packages (3.0.1)\n",
      "Requirement already satisfied: langchain in c:\\users\\badel\\appdata\\local\\programs\\python\\python312\\lib\\site-packages (0.2.7)\n",
      "Requirement already satisfied: langchain-community in c:\\users\\badel\\appdata\\local\\programs\\python\\python312\\lib\\site-packages (0.2.7)\n",
      "Requirement already satisfied: chromadb in c:\\users\\badel\\appdata\\local\\programs\\python\\python312\\lib\\site-packages (0.4.24)\n",
      "Requirement already satisfied: pypdf in c:\\users\\badel\\appdata\\local\\programs\\python\\python312\\lib\\site-packages (4.2.0)\n",
      "Requirement already satisfied: filelock in c:\\users\\badel\\appdata\\local\\programs\\python\\python312\\lib\\site-packages (from transformers) (3.14.0)\n",
      "Requirement already satisfied: huggingface-hub<1.0,>=0.23.2 in c:\\users\\badel\\appdata\\local\\programs\\python\\python312\\lib\\site-packages (from transformers) (0.23.4)\n",
      "Requirement already satisfied: numpy<2.0,>=1.17 in c:\\users\\badel\\appdata\\local\\programs\\python\\python312\\lib\\site-packages (from transformers) (1.26.4)\n",
      "Requirement already satisfied: packaging>=20.0 in c:\\users\\badel\\appdata\\local\\programs\\python\\python312\\lib\\site-packages (from transformers) (23.2)\n",
      "Requirement already satisfied: pyyaml>=5.1 in c:\\users\\badel\\appdata\\local\\programs\\python\\python312\\lib\\site-packages (from transformers) (6.0.1)\n",
      "Requirement already satisfied: regex!=2019.12.17 in c:\\users\\badel\\appdata\\local\\programs\\python\\python312\\lib\\site-packages (from transformers) (2023.12.25)\n",
      "Requirement already satisfied: requests in c:\\users\\badel\\appdata\\local\\programs\\python\\python312\\lib\\site-packages (from transformers) (2.32.3)\n",
      "Requirement already satisfied: safetensors>=0.4.1 in c:\\users\\badel\\appdata\\local\\programs\\python\\python312\\lib\\site-packages (from transformers) (0.4.3)\n",
      "Requirement already satisfied: tokenizers<0.20,>=0.19 in c:\\users\\badel\\appdata\\local\\programs\\python\\python312\\lib\\site-packages (from transformers) (0.19.1)\n",
      "Requirement already satisfied: tqdm>=4.27 in c:\\users\\badel\\appdata\\local\\programs\\python\\python312\\lib\\site-packages (from transformers) (4.66.4)\n",
      "Requirement already satisfied: torch>=1.11.0 in c:\\users\\badel\\appdata\\local\\programs\\python\\python312\\lib\\site-packages (from sentence-transformers) (2.3.1+cu121)\n",
      "Requirement already satisfied: scikit-learn in c:\\users\\badel\\appdata\\local\\programs\\python\\python312\\lib\\site-packages (from sentence-transformers) (1.4.2)\n",
      "Requirement already satisfied: scipy in c:\\users\\badel\\appdata\\local\\programs\\python\\python312\\lib\\site-packages (from sentence-transformers) (1.11.4)\n",
      "Requirement already satisfied: Pillow in c:\\users\\badel\\appdata\\local\\programs\\python\\python312\\lib\\site-packages (from sentence-transformers) (10.3.0)\n",
      "Requirement already satisfied: SQLAlchemy<3,>=1.4 in c:\\users\\badel\\appdata\\local\\programs\\python\\python312\\lib\\site-packages (from langchain) (2.0.31)\n",
      "Requirement already satisfied: aiohttp<4.0.0,>=3.8.3 in c:\\users\\badel\\appdata\\local\\programs\\python\\python312\\lib\\site-packages (from langchain) (3.9.5)\n",
      "Requirement already satisfied: langchain-core<0.3.0,>=0.2.12 in c:\\users\\badel\\appdata\\local\\programs\\python\\python312\\lib\\site-packages (from langchain) (0.2.12)\n",
      "Requirement already satisfied: langchain-text-splitters<0.3.0,>=0.2.0 in c:\\users\\badel\\appdata\\local\\programs\\python\\python312\\lib\\site-packages (from langchain) (0.2.2)\n",
      "Requirement already satisfied: langsmith<0.2.0,>=0.1.17 in c:\\users\\badel\\appdata\\local\\programs\\python\\python312\\lib\\site-packages (from langchain) (0.1.84)\n",
      "Requirement already satisfied: pydantic<3,>=1 in c:\\users\\badel\\appdata\\local\\programs\\python\\python312\\lib\\site-packages (from langchain) (2.8.2)\n",
      "Requirement already satisfied: tenacity!=8.4.0,<9.0.0,>=8.1.0 in c:\\users\\badel\\appdata\\local\\programs\\python\\python312\\lib\\site-packages (from langchain) (8.3.0)\n",
      "Requirement already satisfied: dataclasses-json<0.7,>=0.5.7 in c:\\users\\badel\\appdata\\local\\programs\\python\\python312\\lib\\site-packages (from langchain-community) (0.6.7)\n",
      "Requirement already satisfied: build>=1.0.3 in c:\\users\\badel\\appdata\\local\\programs\\python\\python312\\lib\\site-packages (from chromadb) (1.2.1)\n",
      "Requirement already satisfied: chroma-hnswlib==0.7.3 in c:\\users\\badel\\appdata\\local\\programs\\python\\python312\\lib\\site-packages (from chromadb) (0.7.3)\n",
      "Requirement already satisfied: fastapi>=0.95.2 in c:\\users\\badel\\appdata\\local\\programs\\python\\python312\\lib\\site-packages (from chromadb) (0.111.0)\n",
      "Requirement already satisfied: uvicorn>=0.18.3 in c:\\users\\badel\\appdata\\local\\programs\\python\\python312\\lib\\site-packages (from uvicorn[standard]>=0.18.3->chromadb) (0.30.1)\n",
      "Requirement already satisfied: posthog>=2.4.0 in c:\\users\\badel\\appdata\\local\\programs\\python\\python312\\lib\\site-packages (from chromadb) (3.5.0)\n",
      "Requirement already satisfied: typing-extensions>=4.5.0 in c:\\users\\badel\\appdata\\local\\programs\\python\\python312\\lib\\site-packages (from chromadb) (4.12.2)\n",
      "Requirement already satisfied: pulsar-client>=3.1.0 in c:\\users\\badel\\appdata\\local\\programs\\python\\python312\\lib\\site-packages (from chromadb) (3.5.0)\n",
      "Requirement already satisfied: onnxruntime>=1.14.1 in c:\\users\\badel\\appdata\\local\\programs\\python\\python312\\lib\\site-packages (from chromadb) (1.18.1)\n",
      "Requirement already satisfied: opentelemetry-api>=1.2.0 in c:\\users\\badel\\appdata\\local\\programs\\python\\python312\\lib\\site-packages (from chromadb) (1.25.0)\n",
      "Requirement already satisfied: opentelemetry-exporter-otlp-proto-grpc>=1.2.0 in c:\\users\\badel\\appdata\\local\\programs\\python\\python312\\lib\\site-packages (from chromadb) (1.25.0)\n",
      "Requirement already satisfied: opentelemetry-instrumentation-fastapi>=0.41b0 in c:\\users\\badel\\appdata\\local\\programs\\python\\python312\\lib\\site-packages (from chromadb) (0.46b0)\n",
      "Requirement already satisfied: opentelemetry-sdk>=1.2.0 in c:\\users\\badel\\appdata\\local\\programs\\python\\python312\\lib\\site-packages (from chromadb) (1.25.0)\n",
      "Requirement already satisfied: pypika>=0.48.9 in c:\\users\\badel\\appdata\\local\\programs\\python\\python312\\lib\\site-packages (from chromadb) (0.48.9)\n",
      "Requirement already satisfied: overrides>=7.3.1 in c:\\users\\badel\\appdata\\local\\programs\\python\\python312\\lib\\site-packages (from chromadb) (7.7.0)\n",
      "Requirement already satisfied: importlib-resources in c:\\users\\badel\\appdata\\local\\programs\\python\\python312\\lib\\site-packages (from chromadb) (6.4.0)\n",
      "Requirement already satisfied: grpcio>=1.58.0 in c:\\users\\badel\\appdata\\local\\programs\\python\\python312\\lib\\site-packages (from chromadb) (1.63.0)\n",
      "Requirement already satisfied: bcrypt>=4.0.1 in c:\\users\\badel\\appdata\\local\\programs\\python\\python312\\lib\\site-packages (from chromadb) (4.0.1)\n",
      "Requirement already satisfied: typer>=0.9.0 in c:\\users\\badel\\appdata\\local\\programs\\python\\python312\\lib\\site-packages (from chromadb) (0.12.3)\n",
      "Requirement already satisfied: kubernetes>=28.1.0 in c:\\users\\badel\\appdata\\local\\programs\\python\\python312\\lib\\site-packages (from chromadb) (30.1.0)\n",
      "Requirement already satisfied: mmh3>=4.0.1 in c:\\users\\badel\\appdata\\local\\programs\\python\\python312\\lib\\site-packages (from chromadb) (4.1.0)\n",
      "Requirement already satisfied: orjson>=3.9.12 in c:\\users\\badel\\appdata\\local\\programs\\python\\python312\\lib\\site-packages (from chromadb) (3.10.0)\n",
      "Requirement already satisfied: aiosignal>=1.1.2 in c:\\users\\badel\\appdata\\local\\programs\\python\\python312\\lib\\site-packages (from aiohttp<4.0.0,>=3.8.3->langchain) (1.3.1)\n",
      "Requirement already satisfied: attrs>=17.3.0 in c:\\users\\badel\\appdata\\local\\programs\\python\\python312\\lib\\site-packages (from aiohttp<4.0.0,>=3.8.3->langchain) (23.2.0)\n",
      "Requirement already satisfied: frozenlist>=1.1.1 in c:\\users\\badel\\appdata\\local\\programs\\python\\python312\\lib\\site-packages (from aiohttp<4.0.0,>=3.8.3->langchain) (1.4.1)\n",
      "Requirement already satisfied: multidict<7.0,>=4.5 in c:\\users\\badel\\appdata\\local\\programs\\python\\python312\\lib\\site-packages (from aiohttp<4.0.0,>=3.8.3->langchain) (6.0.5)\n",
      "Requirement already satisfied: yarl<2.0,>=1.0 in c:\\users\\badel\\appdata\\local\\programs\\python\\python312\\lib\\site-packages (from aiohttp<4.0.0,>=3.8.3->langchain) (1.9.4)\n",
      "Requirement already satisfied: pyproject_hooks in c:\\users\\badel\\appdata\\local\\programs\\python\\python312\\lib\\site-packages (from build>=1.0.3->chromadb) (1.1.0)\n",
      "Requirement already satisfied: colorama in c:\\users\\badel\\appdata\\roaming\\python\\python312\\site-packages (from build>=1.0.3->chromadb) (0.4.6)\n",
      "Requirement already satisfied: marshmallow<4.0.0,>=3.18.0 in c:\\users\\badel\\appdata\\local\\programs\\python\\python312\\lib\\site-packages (from dataclasses-json<0.7,>=0.5.7->langchain-community) (3.21.3)\n",
      "Requirement already satisfied: typing-inspect<1,>=0.4.0 in c:\\users\\badel\\appdata\\local\\programs\\python\\python312\\lib\\site-packages (from dataclasses-json<0.7,>=0.5.7->langchain-community) (0.9.0)\n",
      "Requirement already satisfied: starlette<0.38.0,>=0.37.2 in c:\\users\\badel\\appdata\\local\\programs\\python\\python312\\lib\\site-packages (from fastapi>=0.95.2->chromadb) (0.37.2)\n",
      "Requirement already satisfied: fastapi-cli>=0.0.2 in c:\\users\\badel\\appdata\\local\\programs\\python\\python312\\lib\\site-packages (from fastapi>=0.95.2->chromadb) (0.0.4)\n",
      "Requirement already satisfied: httpx>=0.23.0 in c:\\users\\badel\\appdata\\local\\programs\\python\\python312\\lib\\site-packages (from fastapi>=0.95.2->chromadb) (0.27.0)\n",
      "Requirement already satisfied: jinja2>=2.11.2 in c:\\users\\badel\\appdata\\local\\programs\\python\\python312\\lib\\site-packages (from fastapi>=0.95.2->chromadb) (3.1.3)\n",
      "Requirement already satisfied: python-multipart>=0.0.7 in c:\\users\\badel\\appdata\\local\\programs\\python\\python312\\lib\\site-packages (from fastapi>=0.95.2->chromadb) (0.0.7)\n",
      "Requirement already satisfied: ujson!=4.0.2,!=4.1.0,!=4.2.0,!=4.3.0,!=5.0.0,!=5.1.0,>=4.0.1 in c:\\users\\badel\\appdata\\local\\programs\\python\\python312\\lib\\site-packages (from fastapi>=0.95.2->chromadb) (5.10.0)\n",
      "Requirement already satisfied: email_validator>=2.0.0 in c:\\users\\badel\\appdata\\local\\programs\\python\\python312\\lib\\site-packages (from fastapi>=0.95.2->chromadb) (2.2.0)\n",
      "Requirement already satisfied: fsspec>=2023.5.0 in c:\\users\\badel\\appdata\\local\\programs\\python\\python312\\lib\\site-packages (from huggingface-hub<1.0,>=0.23.2->transformers) (2024.3.1)\n",
      "Requirement already satisfied: certifi>=14.05.14 in c:\\users\\badel\\appdata\\local\\programs\\python\\python312\\lib\\site-packages (from kubernetes>=28.1.0->chromadb) (2024.2.2)\n",
      "Requirement already satisfied: six>=1.9.0 in c:\\users\\badel\\appdata\\roaming\\python\\python312\\site-packages (from kubernetes>=28.1.0->chromadb) (1.16.0)\n",
      "Requirement already satisfied: python-dateutil>=2.5.3 in c:\\users\\badel\\appdata\\roaming\\python\\python312\\site-packages (from kubernetes>=28.1.0->chromadb) (2.9.0.post0)\n",
      "Requirement already satisfied: google-auth>=1.0.1 in c:\\users\\badel\\appdata\\local\\programs\\python\\python312\\lib\\site-packages (from kubernetes>=28.1.0->chromadb) (2.29.0)\n",
      "Requirement already satisfied: websocket-client!=0.40.0,!=0.41.*,!=0.42.*,>=0.32.0 in c:\\users\\badel\\appdata\\local\\programs\\python\\python312\\lib\\site-packages (from kubernetes>=28.1.0->chromadb) (1.8.0)\n",
      "Requirement already satisfied: requests-oauthlib in c:\\users\\badel\\appdata\\local\\programs\\python\\python312\\lib\\site-packages (from kubernetes>=28.1.0->chromadb) (2.0.0)\n",
      "Requirement already satisfied: oauthlib>=3.2.2 in c:\\users\\badel\\appdata\\local\\programs\\python\\python312\\lib\\site-packages (from kubernetes>=28.1.0->chromadb) (3.2.2)\n",
      "Requirement already satisfied: urllib3>=1.24.2 in c:\\users\\badel\\appdata\\local\\programs\\python\\python312\\lib\\site-packages (from kubernetes>=28.1.0->chromadb) (2.2.1)\n",
      "Requirement already satisfied: jsonpatch<2.0,>=1.33 in c:\\users\\badel\\appdata\\local\\programs\\python\\python312\\lib\\site-packages (from langchain-core<0.3.0,>=0.2.12->langchain) (1.33)\n",
      "Requirement already satisfied: coloredlogs in c:\\users\\badel\\appdata\\local\\programs\\python\\python312\\lib\\site-packages (from onnxruntime>=1.14.1->chromadb) (15.0.1)\n",
      "Requirement already satisfied: flatbuffers in c:\\users\\badel\\appdata\\local\\programs\\python\\python312\\lib\\site-packages (from onnxruntime>=1.14.1->chromadb) (24.3.25)\n",
      "Requirement already satisfied: protobuf in c:\\users\\badel\\appdata\\local\\programs\\python\\python312\\lib\\site-packages (from onnxruntime>=1.14.1->chromadb) (4.25.3)\n",
      "Requirement already satisfied: sympy in c:\\users\\badel\\appdata\\local\\programs\\python\\python312\\lib\\site-packages (from onnxruntime>=1.14.1->chromadb) (1.12)\n",
      "Requirement already satisfied: deprecated>=1.2.6 in c:\\users\\badel\\appdata\\local\\programs\\python\\python312\\lib\\site-packages (from opentelemetry-api>=1.2.0->chromadb) (1.2.14)\n",
      "Requirement already satisfied: importlib-metadata<=7.1,>=6.0 in c:\\users\\badel\\appdata\\local\\programs\\python\\python312\\lib\\site-packages (from opentelemetry-api>=1.2.0->chromadb) (7.1.0)\n",
      "Requirement already satisfied: googleapis-common-protos~=1.52 in c:\\users\\badel\\appdata\\local\\programs\\python\\python312\\lib\\site-packages (from opentelemetry-exporter-otlp-proto-grpc>=1.2.0->chromadb) (1.63.0)\n",
      "Requirement already satisfied: opentelemetry-exporter-otlp-proto-common==1.25.0 in c:\\users\\badel\\appdata\\local\\programs\\python\\python312\\lib\\site-packages (from opentelemetry-exporter-otlp-proto-grpc>=1.2.0->chromadb) (1.25.0)\n",
      "Requirement already satisfied: opentelemetry-proto==1.25.0 in c:\\users\\badel\\appdata\\local\\programs\\python\\python312\\lib\\site-packages (from opentelemetry-exporter-otlp-proto-grpc>=1.2.0->chromadb) (1.25.0)\n",
      "Requirement already satisfied: opentelemetry-instrumentation-asgi==0.46b0 in c:\\users\\badel\\appdata\\local\\programs\\python\\python312\\lib\\site-packages (from opentelemetry-instrumentation-fastapi>=0.41b0->chromadb) (0.46b0)\n",
      "Requirement already satisfied: opentelemetry-instrumentation==0.46b0 in c:\\users\\badel\\appdata\\local\\programs\\python\\python312\\lib\\site-packages (from opentelemetry-instrumentation-fastapi>=0.41b0->chromadb) (0.46b0)\n",
      "Requirement already satisfied: opentelemetry-semantic-conventions==0.46b0 in c:\\users\\badel\\appdata\\local\\programs\\python\\python312\\lib\\site-packages (from opentelemetry-instrumentation-fastapi>=0.41b0->chromadb) (0.46b0)\n",
      "Requirement already satisfied: opentelemetry-util-http==0.46b0 in c:\\users\\badel\\appdata\\local\\programs\\python\\python312\\lib\\site-packages (from opentelemetry-instrumentation-fastapi>=0.41b0->chromadb) (0.46b0)\n",
      "Requirement already satisfied: setuptools>=16.0 in c:\\users\\badel\\appdata\\local\\programs\\python\\python312\\lib\\site-packages (from opentelemetry-instrumentation==0.46b0->opentelemetry-instrumentation-fastapi>=0.41b0->chromadb) (69.5.1)\n",
      "Requirement already satisfied: wrapt<2.0.0,>=1.0.0 in c:\\users\\badel\\appdata\\local\\programs\\python\\python312\\lib\\site-packages (from opentelemetry-instrumentation==0.46b0->opentelemetry-instrumentation-fastapi>=0.41b0->chromadb) (1.16.0)\n",
      "Requirement already satisfied: asgiref~=3.0 in c:\\users\\badel\\appdata\\local\\programs\\python\\python312\\lib\\site-packages (from opentelemetry-instrumentation-asgi==0.46b0->opentelemetry-instrumentation-fastapi>=0.41b0->chromadb) (3.8.1)\n",
      "Requirement already satisfied: monotonic>=1.5 in c:\\users\\badel\\appdata\\local\\programs\\python\\python312\\lib\\site-packages (from posthog>=2.4.0->chromadb) (1.6)\n",
      "Requirement already satisfied: backoff>=1.10.0 in c:\\users\\badel\\appdata\\local\\programs\\python\\python312\\lib\\site-packages (from posthog>=2.4.0->chromadb) (2.2.1)\n",
      "Requirement already satisfied: annotated-types>=0.4.0 in c:\\users\\badel\\appdata\\local\\programs\\python\\python312\\lib\\site-packages (from pydantic<3,>=1->langchain) (0.6.0)\n",
      "Requirement already satisfied: pydantic-core==2.20.1 in c:\\users\\badel\\appdata\\local\\programs\\python\\python312\\lib\\site-packages (from pydantic<3,>=1->langchain) (2.20.1)\n",
      "Requirement already satisfied: charset-normalizer<4,>=2 in c:\\users\\badel\\appdata\\local\\programs\\python\\python312\\lib\\site-packages (from requests->transformers) (3.3.2)\n",
      "Requirement already satisfied: idna<4,>=2.5 in c:\\users\\badel\\appdata\\local\\programs\\python\\python312\\lib\\site-packages (from requests->transformers) (3.7)\n",
      "Requirement already satisfied: greenlet!=0.4.17 in c:\\users\\badel\\appdata\\local\\programs\\python\\python312\\lib\\site-packages (from SQLAlchemy<3,>=1.4->langchain) (3.0.3)\n",
      "Requirement already satisfied: networkx in c:\\users\\badel\\appdata\\local\\programs\\python\\python312\\lib\\site-packages (from torch>=1.11.0->sentence-transformers) (3.3)\n",
      "Requirement already satisfied: mkl<=2021.4.0,>=2021.1.1 in c:\\users\\badel\\appdata\\local\\programs\\python\\python312\\lib\\site-packages (from torch>=1.11.0->sentence-transformers) (2021.4.0)\n",
      "Requirement already satisfied: click>=8.0.0 in c:\\users\\badel\\appdata\\local\\programs\\python\\python312\\lib\\site-packages (from typer>=0.9.0->chromadb) (8.1.7)\n",
      "Requirement already satisfied: shellingham>=1.3.0 in c:\\users\\badel\\appdata\\local\\programs\\python\\python312\\lib\\site-packages (from typer>=0.9.0->chromadb) (1.5.4)\n",
      "Requirement already satisfied: rich>=10.11.0 in c:\\users\\badel\\appdata\\local\\programs\\python\\python312\\lib\\site-packages (from typer>=0.9.0->chromadb) (13.7.1)\n",
      "Requirement already satisfied: h11>=0.8 in c:\\users\\badel\\appdata\\local\\programs\\python\\python312\\lib\\site-packages (from uvicorn>=0.18.3->uvicorn[standard]>=0.18.3->chromadb) (0.14.0)\n",
      "Requirement already satisfied: httptools>=0.5.0 in c:\\users\\badel\\appdata\\local\\programs\\python\\python312\\lib\\site-packages (from uvicorn[standard]>=0.18.3->chromadb) (0.6.1)\n",
      "Requirement already satisfied: python-dotenv>=0.13 in c:\\users\\badel\\appdata\\local\\programs\\python\\python312\\lib\\site-packages (from uvicorn[standard]>=0.18.3->chromadb) (1.0.1)\n",
      "Requirement already satisfied: watchfiles>=0.13 in c:\\users\\badel\\appdata\\local\\programs\\python\\python312\\lib\\site-packages (from uvicorn[standard]>=0.18.3->chromadb) (0.22.0)\n",
      "Requirement already satisfied: websockets>=10.4 in c:\\users\\badel\\appdata\\local\\programs\\python\\python312\\lib\\site-packages (from uvicorn[standard]>=0.18.3->chromadb) (12.0)\n",
      "Requirement already satisfied: joblib>=1.2.0 in c:\\users\\badel\\appdata\\local\\programs\\python\\python312\\lib\\site-packages (from scikit-learn->sentence-transformers) (1.3.2)\n",
      "Requirement already satisfied: threadpoolctl>=2.0.0 in c:\\users\\badel\\appdata\\local\\programs\\python\\python312\\lib\\site-packages (from scikit-learn->sentence-transformers) (3.5.0)\n",
      "Requirement already satisfied: dnspython>=2.0.0 in c:\\users\\badel\\appdata\\local\\programs\\python\\python312\\lib\\site-packages (from email_validator>=2.0.0->fastapi>=0.95.2->chromadb) (2.6.1)\n",
      "Requirement already satisfied: cachetools<6.0,>=2.0.0 in c:\\users\\badel\\appdata\\local\\programs\\python\\python312\\lib\\site-packages (from google-auth>=1.0.1->kubernetes>=28.1.0->chromadb) (5.3.3)\n",
      "Requirement already satisfied: pyasn1-modules>=0.2.1 in c:\\users\\badel\\appdata\\local\\programs\\python\\python312\\lib\\site-packages (from google-auth>=1.0.1->kubernetes>=28.1.0->chromadb) (0.4.0)\n",
      "Requirement already satisfied: rsa<5,>=3.1.4 in c:\\users\\badel\\appdata\\local\\programs\\python\\python312\\lib\\site-packages (from google-auth>=1.0.1->kubernetes>=28.1.0->chromadb) (4.9)\n",
      "Requirement already satisfied: anyio in c:\\users\\badel\\appdata\\local\\programs\\python\\python312\\lib\\site-packages (from httpx>=0.23.0->fastapi>=0.95.2->chromadb) (4.4.0)\n",
      "Requirement already satisfied: httpcore==1.* in c:\\users\\badel\\appdata\\local\\programs\\python\\python312\\lib\\site-packages (from httpx>=0.23.0->fastapi>=0.95.2->chromadb) (1.0.5)\n",
      "Requirement already satisfied: sniffio in c:\\users\\badel\\appdata\\local\\programs\\python\\python312\\lib\\site-packages (from httpx>=0.23.0->fastapi>=0.95.2->chromadb) (1.3.1)\n",
      "Requirement already satisfied: zipp>=0.5 in c:\\users\\badel\\appdata\\local\\programs\\python\\python312\\lib\\site-packages (from importlib-metadata<=7.1,>=6.0->opentelemetry-api>=1.2.0->chromadb) (3.19.2)\n",
      "Requirement already satisfied: MarkupSafe>=2.0 in c:\\users\\badel\\appdata\\local\\programs\\python\\python312\\lib\\site-packages (from jinja2>=2.11.2->fastapi>=0.95.2->chromadb) (2.1.5)\n",
      "Requirement already satisfied: jsonpointer>=1.9 in c:\\users\\badel\\appdata\\local\\programs\\python\\python312\\lib\\site-packages (from jsonpatch<2.0,>=1.33->langchain-core<0.3.0,>=0.2.12->langchain) (3.0.0)\n",
      "Requirement already satisfied: intel-openmp==2021.* in c:\\users\\badel\\appdata\\local\\programs\\python\\python312\\lib\\site-packages (from mkl<=2021.4.0,>=2021.1.1->torch>=1.11.0->sentence-transformers) (2021.4.0)\n",
      "Requirement already satisfied: tbb==2021.* in c:\\users\\badel\\appdata\\local\\programs\\python\\python312\\lib\\site-packages (from mkl<=2021.4.0,>=2021.1.1->torch>=1.11.0->sentence-transformers) (2021.12.0)\n",
      "Requirement already satisfied: markdown-it-py>=2.2.0 in c:\\users\\badel\\appdata\\local\\programs\\python\\python312\\lib\\site-packages (from rich>=10.11.0->typer>=0.9.0->chromadb) (3.0.0)\n",
      "Requirement already satisfied: pygments<3.0.0,>=2.13.0 in c:\\users\\badel\\appdata\\roaming\\python\\python312\\site-packages (from rich>=10.11.0->typer>=0.9.0->chromadb) (2.18.0)\n",
      "Requirement already satisfied: mypy-extensions>=0.3.0 in c:\\users\\badel\\appdata\\local\\programs\\python\\python312\\lib\\site-packages (from typing-inspect<1,>=0.4.0->dataclasses-json<0.7,>=0.5.7->langchain-community) (1.0.0)\n",
      "Requirement already satisfied: humanfriendly>=9.1 in c:\\users\\badel\\appdata\\local\\programs\\python\\python312\\lib\\site-packages (from coloredlogs->onnxruntime>=1.14.1->chromadb) (10.0)\n",
      "Requirement already satisfied: mpmath>=0.19 in c:\\users\\badel\\appdata\\local\\programs\\python\\python312\\lib\\site-packages (from sympy->onnxruntime>=1.14.1->chromadb) (1.3.0)\n",
      "Requirement already satisfied: pyreadline3 in c:\\users\\badel\\appdata\\local\\programs\\python\\python312\\lib\\site-packages (from humanfriendly>=9.1->coloredlogs->onnxruntime>=1.14.1->chromadb) (3.4.1)\n",
      "Requirement already satisfied: mdurl~=0.1 in c:\\users\\badel\\appdata\\local\\programs\\python\\python312\\lib\\site-packages (from markdown-it-py>=2.2.0->rich>=10.11.0->typer>=0.9.0->chromadb) (0.1.2)\n",
      "Requirement already satisfied: pyasn1<0.7.0,>=0.4.6 in c:\\users\\badel\\appdata\\local\\programs\\python\\python312\\lib\\site-packages (from pyasn1-modules>=0.2.1->google-auth>=1.0.1->kubernetes>=28.1.0->chromadb) (0.6.0)\n",
      "Looking in indexes: https://download.pytorch.org/whl/cpu\n",
      "Requirement already satisfied: torch in c:\\users\\badel\\appdata\\local\\programs\\python\\python312\\lib\\site-packages (2.3.1+cu121)\n",
      "Requirement already satisfied: filelock in c:\\users\\badel\\appdata\\local\\programs\\python\\python312\\lib\\site-packages (from torch) (3.14.0)\n",
      "Requirement already satisfied: typing-extensions>=4.8.0 in c:\\users\\badel\\appdata\\local\\programs\\python\\python312\\lib\\site-packages (from torch) (4.12.2)\n",
      "Requirement already satisfied: sympy in c:\\users\\badel\\appdata\\local\\programs\\python\\python312\\lib\\site-packages (from torch) (1.12)\n",
      "Requirement already satisfied: networkx in c:\\users\\badel\\appdata\\local\\programs\\python\\python312\\lib\\site-packages (from torch) (3.3)\n",
      "Requirement already satisfied: jinja2 in c:\\users\\badel\\appdata\\local\\programs\\python\\python312\\lib\\site-packages (from torch) (3.1.3)\n",
      "Requirement already satisfied: fsspec in c:\\users\\badel\\appdata\\local\\programs\\python\\python312\\lib\\site-packages (from torch) (2024.3.1)\n",
      "Requirement already satisfied: mkl<=2021.4.0,>=2021.1.1 in c:\\users\\badel\\appdata\\local\\programs\\python\\python312\\lib\\site-packages (from torch) (2021.4.0)\n",
      "Requirement already satisfied: intel-openmp==2021.* in c:\\users\\badel\\appdata\\local\\programs\\python\\python312\\lib\\site-packages (from mkl<=2021.4.0,>=2021.1.1->torch) (2021.4.0)\n",
      "Requirement already satisfied: tbb==2021.* in c:\\users\\badel\\appdata\\local\\programs\\python\\python312\\lib\\site-packages (from mkl<=2021.4.0,>=2021.1.1->torch) (2021.12.0)\n",
      "Requirement already satisfied: MarkupSafe>=2.0 in c:\\users\\badel\\appdata\\local\\programs\\python\\python312\\lib\\site-packages (from jinja2->torch) (2.1.5)\n",
      "Requirement already satisfied: mpmath>=0.19 in c:\\users\\badel\\appdata\\local\\programs\\python\\python312\\lib\\site-packages (from sympy->torch) (1.3.0)\n"
     ]
    }
   ],
   "source": [
    "!pip install transformers sentence-transformers langchain langchain-community chromadb pypdf\n",
    "!pip install torch --index-url https://download.pytorch.org/whl/cpu"
   ]
  },
  {
   "cell_type": "code",
   "execution_count": 3,
   "id": "54037a11-5ce3-4680-a839-8d7540c74dfc",
   "metadata": {},
   "outputs": [],
   "source": [
    "from transformers import AutoTokenizer, AutoModelForCausalLM, pipeline\n",
    "from langchain.prompts import PromptTemplate\n",
    "from langchain.embeddings import HuggingFaceEmbeddings\n",
    "from langchain.text_splitter import RecursiveCharacterTextSplitter\n",
    "from langchain_community.document_loaders import PyPDFLoader\n",
    "from langchain.llms import HuggingFacePipeline\n",
    "from langchain.docstore.document import Document\n",
    "from langchain_community.vectorstores import Chroma\n",
    "from langchain_core.runnables import RunnablePassthrough\n",
    "from langchain_core.output_parsers import StrOutputParser\n",
    "import chromadb\n",
    "import random"
   ]
  },
  {
   "cell_type": "code",
   "execution_count": 4,
   "id": "6fa474e1-edf3-4679-b6c1-3cafca7e1297",
   "metadata": {},
   "outputs": [],
   "source": [
    "# Loads a native language model from the specified model path and creates a pipeline for text generation.\n",
    "def load_local_llm(model_path):\n",
    "    tokenizer = AutoTokenizer.from_pretrained(model_path)\n",
    "    model = AutoModelForCausalLM.from_pretrained(model_path)\n",
    "    model.to('cpu')\n",
    "    return pipeline('text-generation', model=model, tokenizer=tokenizer, max_new_tokens=200)"
   ]
  },
  {
   "cell_type": "code",
   "execution_count": 5,
   "id": "bea63488-a6bd-4db3-817c-cdfd2c51f0ec",
   "metadata": {},
   "outputs": [
    {
     "name": "stderr",
     "output_type": "stream",
     "text": [
      "Special tokens have been added in the vocabulary, make sure the associated word embeddings are fine-tuned or trained.\n",
      "Hardware accelerator e.g. GPU is available in the environment, but no `device` argument is passed to the `Pipeline` object. Model will be on CPU.\n"
     ]
    }
   ],
   "source": [
    "llm_pipeline = load_local_llm('C:/Users/badel/Desktop/practicus/llm_model/qwen')"
   ]
  },
  {
   "cell_type": "code",
   "execution_count": 6,
   "id": "c521f5e6-00fa-4331-86e2-5aea88b6e7e2",
   "metadata": {},
   "outputs": [],
   "source": [
    "# Load PDF content\n",
    "def load_pdf(pdf_path):\n",
    "    file_path = (pdf_path)\n",
    "    loader = PyPDFLoader(file_path)\n",
    "    pages = loader.load_and_split()\n",
    "    return pages"
   ]
  },
  {
   "cell_type": "code",
   "execution_count": 7,
   "id": "13b38fdc-ec7d-4420-a781-de5fe56d68ef",
   "metadata": {
    "scrolled": true
   },
   "outputs": [],
   "source": [
    "pdf_text = load_pdf('HAVAYOLU FİRMASI.pdf')"
   ]
  },
  {
   "cell_type": "code",
   "execution_count": 8,
   "id": "6402c86d-a171-4bc5-a0f2-946f5e6946b1",
   "metadata": {},
   "outputs": [],
   "source": [
    "# Divides the given text into chunks of a given size and adjusts the overlap between the chunks\n",
    "def split_text(text, chunk_size=500, chunk_overlap=50):\n",
    "    text_splitter = RecursiveCharacterTextSplitter(\n",
    "        chunk_size=chunk_size,\n",
    "        chunk_overlap=chunk_overlap\n",
    "    )\n",
    "    return text_splitter.split_documents(text)"
   ]
  },
  {
   "cell_type": "code",
   "execution_count": 9,
   "id": "e3e582c5-d0fb-40d0-8a62-4f548f2c8de4",
   "metadata": {},
   "outputs": [],
   "source": [
    "text_chunks = split_text(pdf_text)"
   ]
  },
  {
   "cell_type": "code",
   "execution_count": 10,
   "id": "f134c4b6-c29d-45b9-8ddf-5231e52d7cee",
   "metadata": {},
   "outputs": [
    {
     "data": {
      "text/plain": [
       "[Document(metadata={'source': 'HAVAYOLU FİRMASI.pdf', 'page': 0}, page_content=\"HAVAYOLU FİRMASI:  SkyLink Airlines  \\nKURULUŞ YILI:  2000  \\nGENEL MERKEZ:  New York, ABD  \\n \\nHİZMET VERİLEN DESTİNASYONLAR  \\nKuzey Amerika: New York, Los Angeles, Chicago, Toronto  \\nAvrupa: Londra, Paris, Frankfurt, Roma  \\nAsya -Pasifik: Tokyo, Singapur, Hong Kong, Sydney  \\nOrta Doğu: Dubai, Doha, Riyad  \\n \\nFİLO YAPISI  \\nSkyLink Airlines'ın modern ve çeşitli bir filosu vardır, toplamda 60 uçak bulunmaktadır. Filo şu \\nmodellerden oluşmaktadır:\"),\n",
       " Document(metadata={'source': 'HAVAYOLU FİRMASI.pdf', 'page': 0}, page_content='modellerden oluşmaktadır:  \\nBoeing 787 Dreamliner:  250 koltuk kapasiteli, yakıt verimliliği ve yolcu konforu sa ğlayan \\nmodern bir uçak modeli.  \\nAirbus A350:  300 koltuk kapasiteli, geniş iç mekânı ve ileri teknoloji özellikleri ile yolculara \\nyüksek konfor sunan bir model.  \\nBoeing 737:  160 koltuk kapasiteli, kısa ve orta mesafe uçuşlar için ideal olan ekonomik bir \\nuçak modeli.  \\n \\nÇALIŞAN VE YOLCU SAYISI'),\n",
       " Document(metadata={'source': 'HAVAYOLU FİRMASI.pdf', 'page': 0}, page_content=\"uçak modeli.  \\n \\nÇALIŞAN VE YOLCU SAYISI  \\nSkyLink Airlines , geniş bir operasyonel yapısına sahip olan havayolu şirketidir. 15,000'den \\nfazla çalışanı, farklı departmanlarda görev yapmaktadır. İşte SkyLink Airlines'ın ana \\ndepartmanları:  \\n \\n1. Operasyonlar Departmanı  \\nUçuş Ekibi (Pilot ve Kabin Personeli): 5,000 kişi  \\nUçuş Planlama ve Kontrol: Yaklaşık 1,500 kişi  \\nHavaalanı İşlemleri ve Yer Hizmetleri: 2,000 kişi  \\nToplam Operasyonlar Departmanı: 8,500 kişi\"),\n",
       " Document(metadata={'source': 'HAVAYOLU FİRMASI.pdf', 'page': 1}, page_content='2. İnsan Kaynakları Departmanı  \\nPersonel Yönetimi: 500 kişi  \\nÇalışan İlişkileri: 300 kişi  \\nMaaş ve Yan Haklar: 200 kişi  \\nToplam İnsan Kaynakları Departmanı: 1,000 kişi  \\n \\n3. Pazarlama ve Satış Departmanı  \\nReklam ve Tanıtım: 400 kişi  \\nSatış ve Rezervasyonlar: 600 kişi  \\nToplam Pazarlama ve Satış Departmanı: 1,000 kişi  \\n \\n4. Finans ve Muhasebe Departmanı  \\nMuhasebe: 700 kişi  \\nFinansal Pl anlama ve Analiz: 300 kişi  \\nToplam Finans ve Muhasebe Departmanı: 1,000 kişi'),\n",
       " Document(metadata={'source': 'HAVAYOLU FİRMASI.pdf', 'page': 1}, page_content='5. Teknoloji ve Bilgi İşlem Departmanı  \\nAğ Yönetimi ve Güvenlik: 800 kişi  \\nYazılım Geliştirme: 500 kişi  \\nToplam Teknoloji ve Bilgi İşlem Departmanı: 1,300 kişi  \\n \\n \\n6. Müşteri Hizmetleri ve Operasyonel Destek Departmanı  \\nMüşteri Hizmetleri: 1,000 kişi  \\nOperasyonel Destek: 700 kişi'),\n",
       " Document(metadata={'source': 'HAVAYOLU FİRMASI.pdf', 'page': 2}, page_content='HAVAYOLU HİZMETLERİ VE ÖZELLİKLERİ  \\n1.Sınıf Seçenekleri:  \\nBusiness Class: Premium seyahat deneyimi sunan sınıf. 25 uçak mevcut.  \\nEkonomi Class: Standart  seyahat deneyimi sunan sınıf.  \\n \\n2.Özel Yemek ve İçecek Servisi:  \\nGluten -free: 5 seçenek  \\nVegan: 5 seçenek  \\nDiğer özel diyetler: 10 seçenek  \\n \\n3.Wi-Fi ve İnteraktif Eğlence Sistemleri:  \\nWi-Fi hizmeti: Uçuş sırasında yolculara internet erişimi.'),\n",
       " Document(metadata={'source': 'HAVAYOLU FİRMASI.pdf', 'page': 2}, page_content=\"İnteraktif eğlence: Her uçakta 200'ü aşkın film, dizi, müzik albümü ve oyun bulunmaktadır.  \\n \\n4.Bagaj ve Kabin Hizmetleri:  \\nBagaj İşlemleri: Ortalama her uçuşta 2,000 bagaj işlemi gerçekleştirilmektedir.  \\nKabin Hizmetleri: Her uçuş için ortalama 12 kabin ekibi  üyesi görev yapmaktadır.  \\nÖzel İstek Hizmetleri: Yılda 100,000'den fazla özel istek karşılanmaktadır, bu istekler bebek \\nyatağı, özel koltuk düzenlemeleri gibi çeşitlilik göstermektedir.\"),\n",
       " Document(metadata={'source': 'HAVAYOLU FİRMASI.pdf', 'page': 3}, page_content='SOSYAL SORUMLULUK PROJELERİ VE SÜRDÜRÜLEBİLİRLİK ÇALIŞMALARI  \\n1.Çevre Dostu Uçuş Operasyonları:  \\nYıllık olarak ortalama %10 oranında karbon ayak izini azaltma hedefi belirlemişlerdir.  2023 \\nyılında 50 adet Boeing 787 Dreamliner için daha az yakıt tüketim sağlayacak yeni motor \\nteknolojileri  üzerinde Ar -Ge çalışmalarına başlamışlardır.  \\n \\n2.Toplum Geliştirme Projeleri:  \\nHer yıl düzenli olarak 20 milyon dolarlık bütçe ayrılarak eğitim ve sağlık projelerine destek'),\n",
       " Document(metadata={'source': 'HAVAYOLU FİRMASI.pdf', 'page': 3}, page_content=\"verilmektedir.  Son beş yılda, SkyLink Airlines'ın  katkılarıyla 100 okul inşa edilmiş ve 50,000 \\nsağlık taraması gerçekleştirilmiştir.  \\n \\n3.Teknoloji ve İnovasyon:  \\n2023 yılı itibarıyla, uçuş sırasında her yolcuya ücretsiz Wi -Fi erişimi sunulmaktadır ve bu \\nhizmetle yılda 2 milyon yolcuya hizmet verilmektedir.  Yeni nesil Airbus A350 uçaklarında \\nkullanılan teknolojiler sayesinde, yakıt verimliliği %15 artırılmıştır.  \\n \\n \\nKURUMSAL İŞ BİRLİKLERİ VE ORTAKLIKLAR\"),\n",
       " Document(metadata={'source': 'HAVAYOLU FİRMASI.pdf', 'page': 3}, page_content=\"KURUMSAL İŞ BİRLİKLERİ VE ORTAKLIKLAR  \\n1.Global İş birlikleri ve Kod Paylaşım Anlaşmaları:  \\nDünya genelinde 15 adet havayolu şirketiyle kod paylaşım  anlaşması bulunmaktadır. Bu \\nanlaşmalarla yılda 500,000'den fazla ortak uçuş düzenlenmekte ve 5 milyon yolcuya daha \\ngeniş bir destinasyon ağı sunulmaktadır.  \\n2.Havacılık Endüstrisi İçindeki Önde Gelen Ortaklıklar:  \\nBoeing ve Airbus gibi 5 önde gelen uçak üre ticisiyle stratejik ortaklık bulunmaktadır. Bu\"),\n",
       " Document(metadata={'source': 'HAVAYOLU FİRMASI.pdf', 'page': 3}, page_content='ortaklıklar sayesinde yeni uçak teslimatları hızlandırılmış ve operasyonel verimlilik %20 \\nartırılmıştır.'),\n",
       " Document(metadata={'source': 'HAVAYOLU FİRMASI.pdf', 'page': 4}, page_content='GELECEK VİZYONU VE STRATEJİLER  \\n1.Genişleme Planları ve Yeni Rotalar:  \\nÖnümüzdeki 5 yıl içinde Asya -Pasifik pazarında %15 büyüme hedeflenmektedir. Tokyo, \\nSingapur ve Hong Kong gibi ana merkezlere yönelik yılda 50 yeni rota açılması \\nplanlanmaktadır.  \\n \\n2.Teknoloji ve Müşteri Memnuniyeti Odaklı Geliştirme Çalışmaları:  \\nMobil uygul ama kullanımı %30 artırılarak 3 milyon kullanıcıya erişim sağlanması'),\n",
       " Document(metadata={'source': 'HAVAYOLU FİRMASI.pdf', 'page': 4}, page_content='hedeflenmektedir. İnteraktif eğlence sistemlerindeki içerik çeşitliliği %50 artırılarak yolculara \\ndaha zengin bir deneyim sunulması planlanmaktadır.')]"
      ]
     },
     "execution_count": 10,
     "metadata": {},
     "output_type": "execute_result"
    }
   ],
   "source": [
    "text_chunks"
   ]
  },
  {
   "cell_type": "code",
   "execution_count": 11,
   "id": "feaaec54-0c2f-40fc-9d53-e0635d4470bc",
   "metadata": {},
   "outputs": [],
   "source": [
    "# Generate embeddings and create vector store\n",
    "def create_vector_store(chunks, embeddings_model_path):\n",
    "    embeddings = HuggingFaceEmbeddings(\n",
    "        model_name=embeddings_model_path,\n",
    "        model_kwargs={'device': 'cpu'},\n",
    "        encode_kwargs={'normalize_embeddings': False})\n",
    "     \n",
    "    db_name = str(random.random())\n",
    "    vectorstore_pdf = Chroma.from_documents(collection_name=db_name, documents=chunks, embedding=embeddings)\n",
    "    retriever_pdf = vectorstore_pdf.as_retriever(search_type=\"similarity\", search_kwargs={\"k\": 5})\n",
    "    \n",
    "    return retriever_pdf"
   ]
  },
  {
   "cell_type": "code",
   "execution_count": 12,
   "id": "2c8e0e5f-05ba-435c-9b7d-770e25cfe827",
   "metadata": {},
   "outputs": [
    {
     "name": "stderr",
     "output_type": "stream",
     "text": [
      "c:\\Users\\badel\\AppData\\Local\\Programs\\Python\\Python312\\Lib\\site-packages\\langchain_core\\_api\\deprecation.py:139: LangChainDeprecationWarning: The class `HuggingFaceEmbeddings` was deprecated in LangChain 0.2.2 and will be removed in 0.3.0. An updated version of the class exists in the langchain-huggingface package and should be used instead. To use it run `pip install -U langchain-huggingface` and import as `from langchain_huggingface import HuggingFaceEmbeddings`.\n",
      "  warn_deprecated(\n"
     ]
    }
   ],
   "source": [
    "retriever_pdf = create_vector_store(text_chunks, r'C:\\Users\\badel\\Desktop\\practicus\\llm_model\\sentence-transformers\\all-mpnet-base-v2')"
   ]
  },
  {
   "cell_type": "code",
   "execution_count": 13,
   "id": "c224ef55-67d8-43b5-a4ce-234839c0fda4",
   "metadata": {},
   "outputs": [],
   "source": [
    "def format_docs(docs):\n",
    "     return \"\\n\\n\".join(doc.page_content for doc in docs)"
   ]
  },
  {
   "cell_type": "code",
   "execution_count": 14,
   "id": "5d00bbdf-c4d4-4387-b3df-a495e3a9e780",
   "metadata": {},
   "outputs": [],
   "source": [
    "def query_pdf(retriever_pdf, llm_pipeline, question):\n",
    "    \n",
    "    llm = HuggingFacePipeline(pipeline=llm_pipeline)\n",
    "    \n",
    "    prompt =  prompt_template = PromptTemplate(\n",
    "        input_variables=[\"context\", \"question\"],\n",
    "        template=\"You are an assistant for question-answering tasks. Use the following pieces of retrieved context to answer the question. If you don't know the answer, just say that you don't know. \\nQuestion: {question} \\nContext: {context} \\nAnswer:\"\n",
    "    )\n",
    "    \n",
    "    rag_chain = (\n",
    "            {\"context\": retriever_pdf | format_docs, \"question\": RunnablePassthrough()}\n",
    "            | prompt\n",
    "            | llm\n",
    "            | StrOutputParser()\n",
    "    )\n",
    "\n",
    "    answer = rag_chain.invoke(question)\n",
    "    answer = answer.strip().split('Answer:')[-1].strip()\n",
    "    return answer"
   ]
  },
  {
   "cell_type": "code",
   "execution_count": 15,
   "id": "5a63f4b2-fdf3-42be-a46b-a01440a24a87",
   "metadata": {},
   "outputs": [
    {
     "name": "stderr",
     "output_type": "stream",
     "text": [
      "c:\\Users\\badel\\AppData\\Local\\Programs\\Python\\Python312\\Lib\\site-packages\\langchain_core\\_api\\deprecation.py:139: LangChainDeprecationWarning: The class `HuggingFacePipeline` was deprecated in LangChain 0.0.37 and will be removed in 0.3. An updated version of the class exists in the langchain-huggingface package and should be used instead. To use it run `pip install -U langchain-huggingface` and import as `from langchain_huggingface import HuggingFacePipeline`.\n",
      "  warn_deprecated(\n"
     ]
    }
   ],
   "source": [
    "answer = query_pdf(retriever_pdf, llm_pipeline, \"What is the year the company was founded?\")"
   ]
  },
  {
   "cell_type": "code",
   "execution_count": 16,
   "id": "aff2d017",
   "metadata": {},
   "outputs": [
    {
     "data": {
      "text/plain": [
       "'2000\\nThe company was founded in 2000.\\nThe answer is:\\n2000.'"
      ]
     },
     "execution_count": 16,
     "metadata": {},
     "output_type": "execute_result"
    }
   ],
   "source": [
    "answer"
   ]
  }
 ],
 "metadata": {
  "kernelspec": {
   "display_name": "Python 3",
   "language": "python",
   "name": "python3"
  },
  "language_info": {
   "codemirror_mode": {
    "name": "ipython",
    "version": 3
   },
   "file_extension": ".py",
   "mimetype": "text/x-python",
   "name": "python",
   "nbconvert_exporter": "python",
   "pygments_lexer": "ipython3",
   "version": "3.12.3"
  }
 },
 "nbformat": 4,
 "nbformat_minor": 5
}
